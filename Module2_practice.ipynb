{
 "cells": [
  {
   "cell_type": "code",
   "execution_count": 2,
   "id": "8b601998-c60e-4fd3-b03c-40c13539e98f",
   "metadata": {},
   "outputs": [],
   "source": [
    "import pandas as pd\n",
    "import numpy as np"
   ]
  },
  {
   "cell_type": "code",
   "execution_count": 3,
   "id": "d4cd7825-e7e4-4f7d-89e6-4a706b7d7ee1",
   "metadata": {},
   "outputs": [],
   "source": [
    "df = pd.read_csv('https://raw.githubusercontent.com/alexeygrigorev/mlbookcamp-code/master/chapter-02-car-price/data.csv')"
   ]
  },
  {
   "cell_type": "code",
   "execution_count": 4,
   "id": "5c203a99-4c05-4420-9d58-1f7b2ac68787",
   "metadata": {},
   "outputs": [
    {
     "name": "stdout",
     "output_type": "stream",
     "text": [
      "  Make       Model  Year             Engine Fuel Type  Engine HP  \\\n",
      "0  BMW  1 Series M  2011  premium unleaded (required)      335.0   \n",
      "1  BMW    1 Series  2011  premium unleaded (required)      300.0   \n",
      "2  BMW    1 Series  2011  premium unleaded (required)      300.0   \n",
      "3  BMW    1 Series  2011  premium unleaded (required)      230.0   \n",
      "4  BMW    1 Series  2011  premium unleaded (required)      230.0   \n",
      "\n",
      "   Engine Cylinders Transmission Type     Driven_Wheels  Number of Doors  \\\n",
      "0               6.0            MANUAL  rear wheel drive              2.0   \n",
      "1               6.0            MANUAL  rear wheel drive              2.0   \n",
      "2               6.0            MANUAL  rear wheel drive              2.0   \n",
      "3               6.0            MANUAL  rear wheel drive              2.0   \n",
      "4               6.0            MANUAL  rear wheel drive              2.0   \n",
      "\n",
      "                         Market Category Vehicle Size Vehicle Style  \\\n",
      "0  Factory Tuner,Luxury,High-Performance      Compact         Coupe   \n",
      "1                     Luxury,Performance      Compact   Convertible   \n",
      "2                Luxury,High-Performance      Compact         Coupe   \n",
      "3                     Luxury,Performance      Compact         Coupe   \n",
      "4                                 Luxury      Compact   Convertible   \n",
      "\n",
      "   highway MPG  city mpg  Popularity   MSRP  \n",
      "0           26        19        3916  46135  \n",
      "1           28        19        3916  40650  \n",
      "2           28        20        3916  36350  \n",
      "3           28        18        3916  29450  \n",
      "4           28        18        3916  34500  \n"
     ]
    }
   ],
   "source": [
    "print(df.head())"
   ]
  },
  {
   "cell_type": "code",
   "execution_count": 5,
   "id": "29e4eaaf-d0ba-49f9-9b27-9f02cf308a4a",
   "metadata": {},
   "outputs": [
    {
     "data": {
      "text/plain": [
       "['make',\n",
       " 'model',\n",
       " 'engine_fuel_type',\n",
       " 'transmission_type',\n",
       " 'driven_wheels',\n",
       " 'market_category',\n",
       " 'vehicle_size',\n",
       " 'vehicle_style']"
      ]
     },
     "execution_count": 5,
     "metadata": {},
     "output_type": "execute_result"
    }
   ],
   "source": [
    "df.columns = df.columns.str.lower().str.replace(' ', '_')\n",
    "strings = list(df.dtypes[df.dtypes == 'object'].index)\n",
    "strings"
   ]
  },
  {
   "cell_type": "code",
   "execution_count": null,
   "id": "352c2d4e-22f7-48ea-981c-9228b21291d1",
   "metadata": {},
   "outputs": [],
   "source": []
  }
 ],
 "metadata": {
  "kernelspec": {
   "display_name": "Python 3 (ipykernel)",
   "language": "python",
   "name": "python3"
  },
  "language_info": {
   "codemirror_mode": {
    "name": "ipython",
    "version": 3
   },
   "file_extension": ".py",
   "mimetype": "text/x-python",
   "name": "python",
   "nbconvert_exporter": "python",
   "pygments_lexer": "ipython3",
   "version": "3.12.1"
  }
 },
 "nbformat": 4,
 "nbformat_minor": 5
}
